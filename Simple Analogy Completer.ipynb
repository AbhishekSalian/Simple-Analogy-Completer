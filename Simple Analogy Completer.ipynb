{
 "cells": [
  {
   "cell_type": "code",
   "execution_count": 24,
   "metadata": {},
   "outputs": [],
   "source": [
    "import numpy as np"
   ]
  },
  {
   "cell_type": "markdown",
   "metadata": {},
   "source": [
    "download glove.6B.50d.txt here https://www.kaggle.com/watts2/glove6b50dtxt/downloads/glove6b50dtxt.zip/1"
   ]
  },
  {
   "cell_type": "markdown",
   "metadata": {},
   "source": [
    "## Reading file "
   ]
  },
  {
   "cell_type": "markdown",
   "metadata": {},
   "source": [
    "Our first task is to read the vocabulary file which contain vector representation of near about 10,000 words."
   ]
  },
  {
   "cell_type": "code",
   "execution_count": 30,
   "metadata": {},
   "outputs": [],
   "source": [
    "def read_glove_vecs(glove_file):\n",
    "    with open(glove_file, 'r',encoding =\"utf8\") as f:\n",
    "        \n",
    "        words = set()\n",
    "        word_to_vec_map = {}\n",
    "        \n",
    "        for line in f:\n",
    "            line = line.strip().split()\n",
    "            curr_word = line[0]\n",
    "            words.add(curr_word)\n",
    "            word_to_vec_map[curr_word] = np.array(line[1:], dtype=np.float64)\n",
    "            \n",
    "    return words, word_to_vec_map"
   ]
  },
  {
   "cell_type": "code",
   "execution_count": 31,
   "metadata": {},
   "outputs": [],
   "source": [
    "words, w2v_map = read_glove_vecs('glove.6B.50d.txt')"
   ]
  },
  {
   "cell_type": "code",
   "execution_count": 34,
   "metadata": {},
   "outputs": [
    {
     "data": {
      "text/plain": [
       "array([ 4.1800e-01,  2.4968e-01, -4.1242e-01,  1.2170e-01,  3.4527e-01,\n",
       "       -4.4457e-02, -4.9688e-01, -1.7862e-01, -6.6023e-04, -6.5660e-01,\n",
       "        2.7843e-01, -1.4767e-01, -5.5677e-01,  1.4658e-01, -9.5095e-03,\n",
       "        1.1658e-02,  1.0204e-01, -1.2792e-01, -8.4430e-01, -1.2181e-01,\n",
       "       -1.6801e-02, -3.3279e-01, -1.5520e-01, -2.3131e-01, -1.9181e-01,\n",
       "       -1.8823e+00, -7.6746e-01,  9.9051e-02, -4.2125e-01, -1.9526e-01,\n",
       "        4.0071e+00, -1.8594e-01, -5.2287e-01, -3.1681e-01,  5.9213e-04,\n",
       "        7.4449e-03,  1.7778e-01, -1.5897e-01,  1.2041e-02, -5.4223e-02,\n",
       "       -2.9871e-01, -1.5749e-01, -3.4758e-01, -4.5637e-02, -4.4251e-01,\n",
       "        1.8785e-01,  2.7849e-03, -1.8411e-01, -1.1514e-01, -7.8581e-01])"
      ]
     },
     "execution_count": 34,
     "metadata": {},
     "output_type": "execute_result"
    }
   ],
   "source": [
    "w2v_map['the']# vector representation of word the"
   ]
  },
  {
   "cell_type": "markdown",
   "metadata": {},
   "source": [
    "## Cosine Similarity of two vectors"
   ]
  },
  {
   "cell_type": "markdown",
   "metadata": {},
   "source": [
    "Using cosine similarity between two words we can find out how much a word is similar to another word."
   ]
  },
  {
   "cell_type": "markdown",
   "metadata": {},
   "source": [
    "![this](https://datascience-enthusiast.com/figures/cosine_sim.png)"
   ]
  },
  {
   "cell_type": "code",
   "execution_count": 35,
   "metadata": {},
   "outputs": [],
   "source": [
    "def cosine_similarity(u,v):\n",
    "    distance = 0.0\n",
    "    N = np.dot(u,v)\n",
    "    D = np.linalg.norm(u,2)*np.linalg.norm(v,2)\n",
    "    \n",
    "    return N/D"
   ]
  },
  {
   "cell_type": "code",
   "execution_count": 36,
   "metadata": {},
   "outputs": [
    {
     "data": {
      "text/plain": [
       "0.8164965809277259"
      ]
     },
     "execution_count": 36,
     "metadata": {},
     "output_type": "execute_result"
    }
   ],
   "source": [
    "cosine_similarity([1,1,1],[1,0,1])"
   ]
  },
  {
   "cell_type": "code",
   "execution_count": 47,
   "metadata": {},
   "outputs": [
    {
     "data": {
      "text/plain": [
       "0.9327198629646992"
      ]
     },
     "execution_count": 47,
     "metadata": {},
     "output_type": "execute_result"
    }
   ],
   "source": [
    "cosine_similarity(w2v_map['girl'],w2v_map['boy']) # strongly indicating gender similarity"
   ]
  },
  {
   "cell_type": "markdown",
   "metadata": {},
   "source": [
    "## Analogy Completer function "
   ]
  },
  {
   "cell_type": "markdown",
   "metadata": {},
   "source": [
    "This function will complete the analogy of word ,given pair of another words."
   ]
  },
  {
   "cell_type": "code",
   "execution_count": 43,
   "metadata": {},
   "outputs": [],
   "source": [
    "def analogy_completer(w_a,w_b,w_c,w2v_map):\n",
    "    \"\"\"\n",
    "    w_a -> word a , w_b -> word b ,  w_c -> word c \n",
    "        w2v_map -> word to vector mapping dictionary    \"\"\"\n",
    "    \n",
    "    #making words in lower case format\n",
    "    w_a = w_a.lower(); \n",
    "    w_b = w_b.lower();\n",
    "    w_c = w_c.lower();\n",
    "    \n",
    "    # finding word embeddings  of word a ,b ,c\n",
    "    e_a = w2v_map[w_a]\n",
    "    e_b = w2v_map[w_b]\n",
    "    e_c = w2v_map[w_c]\n",
    "    \n",
    "    words = w2v_map.keys()\n",
    "    max_cosine_sim = -100              # Initialize max_cosine_sim to a large negative number\n",
    "    best_word = None                   # Initialize best_word with None, it will help keep track of the word to output\n",
    "\n",
    "    for w in words:        \n",
    "        # to avoid best_word being one of the input words, pass on them.\n",
    "        if w in [w_a, w_b, w_c] :\n",
    "            continue\n",
    "        \n",
    "        \n",
    "       # e_b - e_a ≈ w - e_c\n",
    "        cosine_sim = cosine_similarity(e_b-e_a, w2v_map[w]-e_c)\n",
    "        \n",
    "        # If the cosine_sim is more than the max_cosine_sim \n",
    "        # then: set the new max_cosine_sim to the current cosine_sim and the best_word to the current word\n",
    "        if cosine_sim > max_cosine_sim:\n",
    "            max_cosine_sim = cosine_sim\n",
    "            best_word = w\n",
    "        \n",
    "    return best_word\n",
    "    "
   ]
  },
  {
   "cell_type": "code",
   "execution_count": 78,
   "metadata": {},
   "outputs": [
    {
     "name": "stdout",
     "output_type": "stream",
     "text": [
      "italy:italian --> spain:?\n",
      "india:delhi --> japan:?\n",
      "man:woman --> boy:?\n",
      "small:smaller --> large:?\n"
     ]
    }
   ],
   "source": [
    "test_sample = [('italy', 'italian', 'spain'), ('india', 'delhi', 'japan'), ('man', 'woman', 'boy'), ('small', 'smaller', 'large')]\n",
    "for t in range(len(test_sample)):\n",
    "    print(\"{}:{} --> {}:?\".format(test_sample[t][0],test_sample[t][1],test_sample[t][2]))"
   ]
  },
  {
   "cell_type": "code",
   "execution_count": 79,
   "metadata": {},
   "outputs": [
    {
     "name": "stdout",
     "output_type": "stream",
     "text": [
      "italy:italian --> spain:spanish\n",
      "india:delhi --> japan:tokyo\n",
      "man:woman --> boy:girl\n",
      "small:smaller --> large:larger\n"
     ]
    }
   ],
   "source": [
    "for t in range(len(test_sample)):\n",
    "    w = analogy_completer(test_sample[t][0],test_sample[t][1],test_sample[t][2],w2v_map)\n",
    "    print(\"{}:{} --> {}:{}\".format(test_sample[t][0],test_sample[t][1],test_sample[t][2], w))\n",
    "toc =time.time()"
   ]
  },
  {
   "cell_type": "code",
   "execution_count": null,
   "metadata": {},
   "outputs": [],
   "source": []
  }
 ],
 "metadata": {
  "kernelspec": {
   "display_name": "Python 3",
   "language": "python",
   "name": "python3"
  },
  "language_info": {
   "codemirror_mode": {
    "name": "ipython",
    "version": 3
   },
   "file_extension": ".py",
   "mimetype": "text/x-python",
   "name": "python",
   "nbconvert_exporter": "python",
   "pygments_lexer": "ipython3",
   "version": "3.7.0"
  }
 },
 "nbformat": 4,
 "nbformat_minor": 2
}
